{
 "cells": [
  {
   "cell_type": "code",
   "execution_count": 1,
   "metadata": {},
   "outputs": [],
   "source": [
    "import os\n",
    "import time  \n",
    "import subprocess\n",
    "import json"
   ]
  },
  {
   "cell_type": "code",
   "execution_count": 2,
   "metadata": {},
   "outputs": [],
   "source": [
    "import wolframalpha\n",
    "import requests\n",
    "import webbrowser\n",
    "import wikipedia\n",
    "import datetime"
   ]
  },
  {
   "cell_type": "code",
   "execution_count": 3,
   "metadata": {},
   "outputs": [],
   "source": [
    "import speech_recognition as sr\n",
    "import pyttsx3"
   ]
  },
  {
   "cell_type": "code",
   "execution_count": 4,
   "metadata": {},
   "outputs": [
    {
     "name": "stdout",
     "output_type": "stream",
     "text": [
      "LOADING YOUR A.I PERSONAL ASSISTANT SIMRAN\n"
     ]
    }
   ],
   "source": [
    "print('LOADING YOUR A.I PERSONAL ASSISTANT SIMRAN')"
   ]
  },
  {
   "cell_type": "code",
   "execution_count": 5,
   "metadata": {},
   "outputs": [],
   "source": [
    "engine = pyttsx3.init()\n",
    "voices = engine.getProperty('voices')\n",
    "engine.setProperty(\"voice\",'voices[0].id')"
   ]
  },
  {
   "cell_type": "code",
   "execution_count": 6,
   "metadata": {},
   "outputs": [],
   "source": [
    "def speak(text):\n",
    "    engine.say(text)\n",
    "    engine.runAndWait()"
   ]
  },
  {
   "cell_type": "code",
   "execution_count": 7,
   "metadata": {},
   "outputs": [],
   "source": [
    "def wishMe():\n",
    "    hour = datetime.datetime.now().hour\n",
    "    if hour >= 0 and hour < 12:\n",
    "        speak(\"Hello, good morning Miss Thasneem Fathima\")\n",
    "        print(\"Hello, good morning Miss Thasneem Fathima\")\n",
    "    elif hour >= 12 and hour <=18:\n",
    "            speak(\"Hello, good afternoon Miss Thasneem Fathima\")\n",
    "            print(\"Hello, good afternoon Miss Thasneem Fathima\")\n",
    "    else:\n",
    "            speak(\"Its already the night time better go to sleep\")\n",
    "            print(\"Its already the night time better go to sleep\")\n",
    "                "
   ]
  },
  {
   "cell_type": "code",
   "execution_count": 8,
   "metadata": {},
   "outputs": [],
   "source": [
    "def takeCommand():\n",
    "    r = sr.Recognizer()\n",
    "    with sr.Microphone() as source:\n",
    "        print(\"I AM LISTENING\")\n",
    "        audio = r.listen(source)\n",
    "       \n",
    "        try:\n",
    "            #print(f\"user input {audio}\")\n",
    "            statement = r.recognize_google(audio,language='en-IN')\n",
    "            statement = statement.lower()\n",
    "            print(f\"user said:{statement}\\n\") \n",
    "            speak(statement) \n",
    "            #output formating statement\n",
    "    \n",
    "        except Exception as e:\n",
    "            speak(\"Pardon me, please say that again\")\n",
    "            return \"None\"\n",
    "        return statement"
   ]
  },
  {
   "cell_type": "code",
   "execution_count": 9,
   "metadata": {},
   "outputs": [
    {
     "name": "stdout",
     "output_type": "stream",
     "text": [
      "Hello, good afternoon Miss Thasneem Fathima\n"
     ]
    }
   ],
   "source": [
    "speak(\"LOADING YOUR PERSONAL A.I ASSISTANT SIMRAN\")\n",
    "wishMe()"
   ]
  },
  {
   "cell_type": "code",
   "execution_count": 10,
   "metadata": {},
   "outputs": [
    {
     "name": "stdout",
     "output_type": "stream",
     "text": [
      "I AM LISTENING\n",
      "I AM LISTENING\n",
      "user said:open youtube\n",
      "\n",
      "I AM LISTENING\n",
      "user said:ask ask\n",
      "\n",
      "I AM LISTENING\n",
      "1 | noun | a canonical hour that is the ninth hour of the day counting from sunrise\n",
      "2 | noun | a service in the Roman Catholic Church formerly read or chanted at 3 PM (the ninth hour counting from sunrise) but now somewhat earlier\n",
      "3 | adjective | not any\n",
      "4 | adverb | not at all or in no way\n",
      "5 | pronoun | not one, not any; no one, nobody; nothing, no part\n",
      "(5 meanings)\n",
      "I AM LISTENING\n",
      "user said:time\n",
      "\n",
      "I AM LISTENING\n",
      "user said:what can you do\n",
      "\n",
      "I AM LISTENING\n",
      "user said:news news\n",
      "\n",
      "I AM LISTENING\n",
      "I AM LISTENING\n",
      "user said:ok bye ok bye\n",
      "\n",
      "Your persional AI assistant SIMRAN is shutting down, GOOD BYE\n"
     ]
    }
   ],
   "source": [
    "if __name__== '__main__':\n",
    "    while True:\n",
    "        speak(\"How can i help you ?\")\n",
    "        statement = takeCommand()\n",
    "        if statement == 0:\n",
    "            continue \n",
    "        if \"good bye\" in statement or \"ok bye\" in statement or \"stop\" in statement:\n",
    "            speak(\"Your persional AI assistant SIMRAN is shutting down, GOOD BYE\")\n",
    "            print(\"Your persional AI assistant SIMRAN is shutting down, GOOD BYE\")\n",
    "            break\n",
    "            \n",
    "        if 'wikipedia' in statement:\n",
    "            speak(\"searching wikipedia..........\")\n",
    "            statement = statement.replace(\"wikipedia\",\" \")\n",
    "            results = wikipedia.summary(statement , sentances = 3)\n",
    "            speak(\"According to Wikipedia......\")\n",
    "            print(results)\n",
    "            speak(results)\n",
    "            \n",
    "        elif \"open youtube\" in statement:\n",
    "            webbrowser.open_new_tab(\"https://www.youtube.com\")\n",
    "            speak(\"Youtube is open for you\")\n",
    "            time.sleep(5)\n",
    "            \n",
    "        elif \"open google\" in statement:\n",
    "            webbrowser.open_new_tab(\"https://www.google.com\")\n",
    "            speak(\"Google search is open for you\")\n",
    "            time.sleep(1)\n",
    "            \n",
    "        elif \"open gmail\" in statement:\n",
    "            webbrowser.open_new_tab(\"gmail.com\")\n",
    "            speak(\"your gmail is open for u\")\n",
    "            time.sleep(1)\n",
    "        \n",
    "        elif \"weather\" in statement:\n",
    "            api_key = '8ef61edcf1c576d65d836254e11ea420'\n",
    "            base_url = \"https://api.openweathermap.org/data/2.5/weather?\"\n",
    "            speak(\"whats the city name\")\n",
    "            city_name = takeCommand()\n",
    "            complete_url = base_url + \"appid = \"+api_key+\"&q=\"+city_name #&q is query\n",
    "            response = requests.get(complete_url)\n",
    "            x = response.json()\n",
    "            if x[\"cod\"] != \"404\":\n",
    "                #if no error in output\n",
    "                y = x[\"main\"]\n",
    "                current_temperature = y[\"temp\"]\n",
    "                current_humidity = y[\"humidity\"]\n",
    "                z = x[\"weather\"]\n",
    "                weather_description = z[0][\"description\"]\n",
    "                speak(\"the temperature in kelvin units is \" + str(current_temperature) +\"\\n humidity in percentage is\" + str(current_humidity) + \"\\n weather description\" + str(weather_description))\n",
    "                print(\"the temperature in kelvin units is \" + str(current_temperature) +\"\\n humidity in percentage is\" + str(current_humidity) + \"\\n weather description\" + str(weather_description))\n",
    "            else:\n",
    "                speak(\"city not found\")\n",
    "                print(\"city not found\")\n",
    "        elif \"time\" in statement:\n",
    "            today = datetime.datetime.now()\n",
    "            strTime = today.strftime(\"%H,%M,%S\")\n",
    "            speak(f\"The time is {strTime}\")\n",
    "            \n",
    "        elif \"Who are you\" in statement or \"what can you do\" in statement:\n",
    "            speak(\"I am Simran version 1 point 0 your personal assistant.I am programmed for opeing youtube, google chrome, gmail, predict time and weather in different cities, get headline news of india and you can ask me computational\")\n",
    "        \n",
    "        elif \"who built you\" in statement or \"who created you\" in statement or \"who discovered you\" in statement or \"who designed you\" in statement:\n",
    "            speak(\"I was build by Thasneem an AI Robosoft Engineer\")\n",
    "            print(\"I was build by Thasneem an AI Robosoft Engineer\")\n",
    "            \n",
    "        elif \"open stack overflow\" in statement:\n",
    "            webbrowser.open_new_tab(\"https://stackoverflow.com/login\")\n",
    "            time.sleep(5)\n",
    "            \n",
    "        elif \"news\" in statement:\n",
    "            news = webbrowser.open_new_tab(\"https://timesofindia.indiatimes.com/headlines\")\n",
    "            speak(\"here are some headlines for u from times of India - happy reading \")\n",
    "            time.sleep(7)\n",
    "        elif \"search\" in statement:\n",
    "            statement = statement.replace(\"search\",\" \")\n",
    "            webbrowser.open_new_tab(\"statement\")\n",
    "            time.sleep(5)\n",
    "            \n",
    "        elif \"ask\" in statement:\n",
    "            speak(\"I am answer to computational and geographical too just try me !!! What do you want to ask\")\n",
    "            question = takeCommand()\n",
    "            app_id = \"R2K75H-7ELALHR35X\"\n",
    "            client = wolframalpha.Client(\"R2K75H-7ELALHR35X\")\n",
    "            res = client.query(question)\n",
    "            answer = next(res.results).text\n",
    "            speak(answer)\n",
    "            print(answer)\n",
    "        \n",
    "        elif \"Log off\" in statement or \"sign out\" in statement or \"Shut down\" in statement:\n",
    "            speak(\"OKay, Your PC will shutdown in 10 seconds - make sure your saved and exit from all application\")\n",
    "            subprocess.call(['shutdown', \"/1\"])\n",
    "            \n",
    "time.sleep(3)\n"
   ]
  },
  {
   "cell_type": "code",
   "execution_count": null,
   "metadata": {},
   "outputs": [],
   "source": []
  },
  {
   "cell_type": "code",
   "execution_count": null,
   "metadata": {},
   "outputs": [],
   "source": []
  },
  {
   "cell_type": "code",
   "execution_count": null,
   "metadata": {},
   "outputs": [],
   "source": []
  }
 ],
 "metadata": {
  "kernelspec": {
   "display_name": "Python 3",
   "language": "python",
   "name": "python3"
  },
  "language_info": {
   "codemirror_mode": {
    "name": "ipython",
    "version": 3
   },
   "file_extension": ".py",
   "mimetype": "text/x-python",
   "name": "python",
   "nbconvert_exporter": "python",
   "pygments_lexer": "ipython3",
   "version": "3.8.3"
  }
 },
 "nbformat": 4,
 "nbformat_minor": 4
}
